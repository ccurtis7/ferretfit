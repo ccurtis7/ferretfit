{
 "cells": [
  {
   "cell_type": "code",
   "execution_count": 1,
   "metadata": {},
   "outputs": [],
   "source": [
    "import sys\n",
    "import os\n",
    "to_add = os.getcwd().split('/scripts')[0]\n",
    "if not to_add in sys.path:\n",
    "    sys.path.insert(0, to_add)\n",
    "\n",
    "import diff_classifier.aws as aws\n",
    "import pandas as pd\n",
    "import boto3\n",
    "import matplotlib.pyplot as plt\n",
    "import numpy as np\n",
    "import statsmodels.api as sm\n",
    "from scipy.optimize import leastsq\n",
    "from scipy.stats import sem\n",
    "import ferretfit.ferretfit as ff"
   ]
  },
  {
   "cell_type": "markdown",
   "metadata": {},
   "source": [
    "# Example use of ferret_fit"
   ]
  },
  {
   "cell_type": "code",
   "execution_count": null,
   "metadata": {},
   "outputs": [],
   "source": [
    "prefix = 'N_P1_R1'\n",
    "folder = 'ferret_tracking'\n",
    "test = ff.ferret_fit(folder, prefix)"
   ]
  },
  {
   "cell_type": "markdown",
   "metadata": {},
   "source": [
    "# Example code to loop over multiple tracks"
   ]
  },
  {
   "cell_type": "code",
   "execution_count": null,
   "metadata": {},
   "outputs": [],
   "source": [
    "#This cell creates a list of csv names over which we will loop\n",
    "\n",
    "s3 = boto3.resource('s3')\n",
    "my_bucket = s3.Bucket('ccurtis.data')\n",
    "\n",
    "all_files = []\n",
    "for object_summary in my_bucket.objects.filter(Prefix=folder):\n",
    "    all_files.append(object_summary.key)\n",
    "    \n",
    "all_csvs = []\n",
    "for num in all_files:\n",
    "    if 'csv' in num:\n",
    "        all_csvs.append(num.split('/')[1].split('.')[0])"
   ]
  },
  {
   "cell_type": "code",
   "execution_count": null,
   "metadata": {},
   "outputs": [],
   "source": [
    "all_csvs[0:-3]"
   ]
  },
  {
   "cell_type": "code",
   "execution_count": null,
   "metadata": {},
   "outputs": [],
   "source": [
    "#And this cell does the brunt of the work.\n",
    "\n",
    "d = {'deviation': [], 'range': [], 'rsd': [], 'amplitude': [], 'period': []}\n",
    "df = pd.DataFrame(data=d)\n",
    "\n",
    "for prefix in all_csvs[0:-3]:\n",
    "\n",
    "    ystd, rang, rsd, amp, per, pawcount, pawdens, cross, crossdens, stride, stridestd = ff.ferret_fit(folder, prefix)\n",
    "    df = df.append({'deviation':ystd, 'range':rang, 'rsd':rsd, 'amplitude':amp,\n",
    "                    'pawcount':pawcount, 'pawdensity':pawdens, 'period':per,\n",
    "                    'cross':cross, 'crossdensity':crossdens, 'stride':stride, 'stridestd':stridestd, 'run':prefix}, ignore_index=True)"
   ]
  },
  {
   "cell_type": "code",
   "execution_count": null,
   "metadata": {},
   "outputs": [],
   "source": [
    "df"
   ]
  },
  {
   "cell_type": "code",
   "execution_count": null,
   "metadata": {
    "scrolled": true
   },
   "outputs": [],
   "source": [
    "#This cell allows the user to perform averages of a parameter of interest after analysis and compare groups.\n",
    "\n",
    "measure = 'period'\n",
    "\n",
    "print('Mean wonky {}: {} +/- {}'.format(measure, np.average(df[0:15][measure]), sem(df[0:15][measure])))\n",
    "print('Mean normal {}: {} +/- {}'.format(measure, np.average(df[15:30][measure]), sem(df[15:30][measure])))\n",
    "\n",
    "np.average(df[0:15]['period'])"
   ]
  },
  {
   "cell_type": "code",
   "execution_count": null,
   "metadata": {},
   "outputs": [],
   "source": [
    "#This cell saves the analyzed data to a csv file.\n",
    "df.to_csv('ferret_stats.csv')\n",
    "\n",
    "stats = 'ferret_stats.csv'\n",
    "aws.upload_s3(stats, '{}/{}'.format(folder, stats), bucket_name='ccurtis.data')"
   ]
  },
  {
   "cell_type": "code",
   "execution_count": null,
   "metadata": {},
   "outputs": [],
   "source": [
    "np.arcsin()"
   ]
  }
 ],
 "metadata": {
  "kernelspec": {
   "display_name": "Python 3",
   "language": "python",
   "name": "python3"
  },
  "language_info": {
   "codemirror_mode": {
    "name": "ipython",
    "version": 3
   },
   "file_extension": ".py",
   "mimetype": "text/x-python",
   "name": "python",
   "nbconvert_exporter": "python",
   "pygments_lexer": "ipython3",
   "version": "3.6.3"
  }
 },
 "nbformat": 4,
 "nbformat_minor": 2
}
