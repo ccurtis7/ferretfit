{
 "cells": [
  {
   "cell_type": "code",
   "execution_count": 1,
   "metadata": {},
   "outputs": [
    {
     "ename": "ModuleNotFoundError",
     "evalue": "No module named 'ferretfit'",
     "output_type": "error",
     "traceback": [
      "\u001b[0;31m---------------------------------------------------------------------------\u001b[0m",
      "\u001b[0;31mModuleNotFoundError\u001b[0m                       Traceback (most recent call last)",
      "\u001b[0;32m<ipython-input-1-67941d202460>\u001b[0m in \u001b[0;36m<module>\u001b[0;34m()\u001b[0m\n\u001b[1;32m      7\u001b[0m \u001b[0;32mfrom\u001b[0m \u001b[0mscipy\u001b[0m\u001b[0;34m.\u001b[0m\u001b[0moptimize\u001b[0m \u001b[0;32mimport\u001b[0m \u001b[0mleastsq\u001b[0m\u001b[0;34m\u001b[0m\u001b[0m\n\u001b[1;32m      8\u001b[0m \u001b[0;32mfrom\u001b[0m \u001b[0mscipy\u001b[0m\u001b[0;34m.\u001b[0m\u001b[0mstats\u001b[0m \u001b[0;32mimport\u001b[0m \u001b[0msem\u001b[0m\u001b[0;34m\u001b[0m\u001b[0m\n\u001b[0;32m----> 9\u001b[0;31m \u001b[0;32mimport\u001b[0m \u001b[0mferretfit\u001b[0m\u001b[0;34m\u001b[0m\u001b[0m\n\u001b[0m",
      "\u001b[0;31mModuleNotFoundError\u001b[0m: No module named 'ferretfit'"
     ]
    }
   ],
   "source": [
    "import diff_classifier.aws as aws\n",
    "import pandas as pd\n",
    "import boto3\n",
    "import matplotlib.pyplot as plt\n",
    "import numpy as np\n",
    "import statsmodels.api as sm\n",
    "from scipy.optimize import leastsq\n",
    "from scipy.stats import sem\n",
    "import ferretfit"
   ]
  },
  {
   "cell_type": "code",
   "execution_count": null,
   "metadata": {},
   "outputs": [],
   "source": [
    "def intersection(x1,y1,x2,y2):\n",
    "    \"\"\"\n",
    "    Adapted from sukhbinder at \n",
    "    https://github.com/sukhbinder/intersection/blob/master/intersection.py\n",
    "    \n",
    "INTERSECTIONS Intersections of curves.\n",
    "   Computes the (x,y) locations where two curves intersect.  The curves\n",
    "   can be broken with NaNs or have vertical segments.\n",
    "\n",
    "usage:\n",
    "x,y=intersection(x1,y1,x2,y2)\n",
    "\n",
    "    Example:\n",
    "    a, b = 1, 2\n",
    "    phi = np.linspace(3, 10, 100)\n",
    "    x1 = a*phi - b*np.sin(phi)\n",
    "    y1 = a - b*np.cos(phi)\n",
    "\n",
    "    x2=phi\n",
    "    y2=np.sin(phi)+2\n",
    "    x,y=intersection(x1,y1,x2,y2)\n",
    "\n",
    "    plt.plot(x1,y1,c='r')\n",
    "    plt.plot(x2,y2,c='g')\n",
    "    plt.plot(x,y,'*k')\n",
    "    plt.show()\n",
    "\n",
    "    \"\"\"\n",
    "    ii,jj=_rectangle_intersection_(x1,y1,x2,y2)\n",
    "    n=len(ii)\n",
    "\n",
    "    dxy1=np.diff(np.c_[x1,y1],axis=0)\n",
    "    dxy2=np.diff(np.c_[x2,y2],axis=0)\n",
    "\n",
    "    T=np.zeros((4,n))\n",
    "    AA=np.zeros((4,4,n))\n",
    "    AA[0:2,2,:]=-1\n",
    "    AA[2:4,3,:]=-1\n",
    "    AA[0::2,0,:]=dxy1[ii,:].T\n",
    "    AA[1::2,1,:]=dxy2[jj,:].T\n",
    "\n",
    "    BB=np.zeros((4,n))\n",
    "    BB[0,:]=-x1[ii].ravel()\n",
    "    BB[1,:]=-x2[jj].ravel()\n",
    "    BB[2,:]=-y1[ii].ravel()\n",
    "    BB[3,:]=-y2[jj].ravel()\n",
    "\n",
    "    for i in range(n):\n",
    "        try:\n",
    "            T[:,i]=np.linalg.solve(AA[:,:,i],BB[:,i])\n",
    "        except:\n",
    "            T[:,i]=np.NaN\n",
    "\n",
    "\n",
    "    in_range= (T[0,:] >=0) & (T[1,:] >=0) & (T[0,:] <=1) & (T[1,:] <=1)\n",
    "\n",
    "    xy0=T[2:,in_range]\n",
    "    xy0=xy0.T\n",
    "    return xy0[:,0],xy0[:,1]\n",
    "\n",
    "\n",
    "def _rect_inter_inner(x1,x2):\n",
    "    n1=x1.shape[0]-1\n",
    "    n2=x2.shape[0]-1\n",
    "    X1=np.c_[x1[:-1],x1[1:]]\n",
    "    X2=np.c_[x2[:-1],x2[1:]]\n",
    "    S1=np.tile(X1.min(axis=1),(n2,1)).T\n",
    "    S2=np.tile(X2.max(axis=1),(n1,1))\n",
    "    S3=np.tile(X1.max(axis=1),(n2,1)).T\n",
    "    S4=np.tile(X2.min(axis=1),(n1,1))\n",
    "    return S1,S2,S3,S4\n",
    "\n",
    "\n",
    "def _rectangle_intersection_(x1,y1,x2,y2):\n",
    "    S1,S2,S3,S4=_rect_inter_inner(x1,x2)\n",
    "    S5,S6,S7,S8=_rect_inter_inner(y1,y2)\n",
    "\n",
    "    C1=np.less_equal(S1,S2)\n",
    "    C2=np.greater_equal(S3,S4)\n",
    "    C3=np.less_equal(S5,S6)\n",
    "    C4=np.greater_equal(S7,S8)\n",
    "\n",
    "    ii,jj=np.nonzero(C1 & C2 & C3 & C4)\n",
    "    return ii,jj"
   ]
  },
  {
   "cell_type": "code",
   "execution_count": null,
   "metadata": {},
   "outputs": [],
   "source": [
    "def fit_sine(x, y, guess_freq=1/150):\n",
    "\n",
    "    guess_mean = np.mean(y)\n",
    "    guess_std = 3*np.std(y)/(2**0.5)/(2**0.5)\n",
    "    guess_slope = 0\n",
    "    if x.shape[0] > 8:\n",
    "        guess_freq = 1/(0.7*np.average(np.diff(x)))\n",
    "        guess_amp = 2*(min(y) - max(y))\n",
    "    else:\n",
    "        guess_freq = 1/(0.5*np.average(np.diff(x)))\n",
    "        guess_amp = 0.75*np.ptp(y)\n",
    "        \n",
    "    guess_phase = np.arcsin((y[0] - guess_mean)/guess_amp) - x[0]\n",
    "    \n",
    "    # we'll use this to plot our first estimate. This might already be good enough for you\n",
    "    data_first_guess = guess_std*np.sin(x+guess_phase) + guess_mean + guess_slope*x\n",
    "\n",
    "    # Define the function to optimize, in this case, we want to minimize the difference\n",
    "    # between the actual data and our \"guessed\" parameters\n",
    "    if x.shape[0] > 8:\n",
    "        optimize_func = lambda z: z[0]*np.sin(z[1]*x+z[2]) + z[3] +z[4]*x - y\n",
    "        est_amp, est_freq, est_phase, est_mean, est_slope = leastsq(optimize_func,\n",
    "                                                                [guess_amp, guess_freq,\n",
    "                                                                 guess_phase, guess_mean, guess_slope])[0]\n",
    "\n",
    "    else:\n",
    "        optimize_func = lambda z: guess_amp*np.sin(z[0]*x+z[1]) + z[2] +z[3]*x - y\n",
    "        est_freq, est_phase, est_mean, est_slope = leastsq(optimize_func,\n",
    "                                                                [guess_freq,\n",
    "                                                                 guess_phase, guess_mean, guess_slope])[0]\n",
    "        est_amp, est_freq, est_phase, est_mean, est_slope = guess_amp, guess_freq, guess_phase, guess_mean, guess_slope\n",
    "\n",
    "    # recreate the fitted curve using the optimized parameters\n",
    "    data_fit = est_amp*np.sin(est_freq*x+est_phase) + est_mean + est_slope*x\n",
    "\n",
    "    # recreate the fitted curve using the optimized parameters\n",
    "\n",
    "    fine_t = np.arange(0,max(x),0.1)\n",
    "    data_fit=est_amp*np.sin(est_freq*fine_t+est_phase)+est_mean+est_slope*fine_t\n",
    "    \n",
    "    return fine_t, data_fit, est_amp, est_freq"
   ]
  },
  {
   "cell_type": "code",
   "execution_count": null,
   "metadata": {},
   "outputs": [],
   "source": [
    "def ferret_fit(folder, prefix, download=True, bucket_name='ccurtis.data'):\n",
    "    \n",
    "    filename = '{}.csv'.format(prefix)\n",
    "    if download:\n",
    "        aws.download_s3('{}/{}'.format(folder, filename), filename, bucket_name=bucket_name)\n",
    "    ferret_data = pd.read_csv(filename)\n",
    "    ferret_data = ferret_data.sort_values(by=['X'])\n",
    "    length = ferret_data.shape[0]\n",
    "\n",
    "    x = ferret_data['X']\n",
    "    y = ferret_data['Y']\n",
    "    fine_t, data_fit, est_amp, est_freq = fit_sine(x, y, guess_freq=1/100)\n",
    "\n",
    "    lowess = sm.nonparametric.lowess\n",
    "    ymid = lowess(y, x, frac=0.3)\n",
    "    yavg = np.convolve(y, np.ones((length,))/length, mode='same')\n",
    "\n",
    "    strait = np.mean(y)*np.ones((length,))\n",
    "    intersections = intersection(x, ymid[:,1], x, strait)\n",
    "    pawcount = len(x)\n",
    "    pawdens = np.abs(100*pawcount/(max(x) - min(x)))\n",
    "    stride = np.mean(np.diff(x))\n",
    "    stridestd = np.std(np.diff(x))\n",
    "    \n",
    "    plt.figure(figsize=(10, 5))\n",
    "    plt.scatter(x, y, s=300)\n",
    "    plt.plot(x, ymid[:, 1], linewidth=6)\n",
    "    plt.plot(x, strait, 'k', linewidth=6)\n",
    "    plt.plot(fine_t, data_fit, 'm', linewidth=6)\n",
    "    #plt.plot(x, yavg, 'k', linewidth=6)\n",
    "    plt.ylim(0, 120)\n",
    "    imfile = '{}_fit.png'.format(prefix)\n",
    "    plt.savefig(imfile)\n",
    "    aws.upload_s3(imfile, '{}/{}'.format(folder, imfile), bucket_name='ccurtis.data')\n",
    "    \n",
    "    ystd = np.round(np.std(y), 2)\n",
    "    yrange = np.round(np.ptp(y), 2)\n",
    "    rsd = 100*np.round(ystd/np.mean(y), 2)\n",
    "    cross = len(intersections[0])\n",
    "    crossdens = np.abs(100*cross/(max(x) - min(x)))\n",
    "\n",
    "    print('Video to analyze: {}'.format(filename))\n",
    "    print('Deviation from midline: {}'.format(ystd))\n",
    "    print('Range in y: {}'.format(yrange))\n",
    "    print('Percent deviation from midline: {}'.format(rsd))\n",
    "    print('Fit amplitude: {}'.format(np.abs(np.round(est_amp, 2))))\n",
    "    print('Number of intersections: {}'.format(cross))\n",
    "    print('Number of intersections per 100 pixels: {}'.format(np.round(crossdens)))\n",
    "    print('Number of footprints: {}'.format(pawcount))\n",
    "    print('Number of footprints per 100 pixels: {}'.format(np.round(pawdens)))\n",
    "    print('Average stride: {}'.format(np.round(stride)))\n",
    "    print('Stride deviation: {}'.format(np.round(stridestd)))\n",
    "    print('Fit period: {}\\n'.format(np.round(1/est_freq, 2)))\n",
    "    \n",
    "    \n",
    "    return (ystd, yrange, rsd, np.abs(est_amp), 1/est_freq, pawcount, pawdens, cross, crossdens, stride, stridestd)"
   ]
  },
  {
   "cell_type": "markdown",
   "metadata": {},
   "source": [
    "# Example use of ferret_fit"
   ]
  },
  {
   "cell_type": "code",
   "execution_count": null,
   "metadata": {},
   "outputs": [],
   "source": [
    "prefix = 'N_P1_R1'\n",
    "folder = 'ferret_tracking'\n",
    "test = ferret_fit(folder, prefix)"
   ]
  },
  {
   "cell_type": "markdown",
   "metadata": {},
   "source": [
    "# Example code to loop over multiple tracks"
   ]
  },
  {
   "cell_type": "code",
   "execution_count": null,
   "metadata": {},
   "outputs": [],
   "source": [
    "#This cell creates a list of csv names over which we will loop\n",
    "\n",
    "s3 = boto3.resource('s3')\n",
    "my_bucket = s3.Bucket('ccurtis.data')\n",
    "\n",
    "all_files = []\n",
    "for object_summary in my_bucket.objects.filter(Prefix=folder):\n",
    "    all_files.append(object_summary.key)\n",
    "    \n",
    "all_csvs = []\n",
    "for num in all_files:\n",
    "    if 'csv' in num:\n",
    "        all_csvs.append(num.split('/')[1].split('.')[0])"
   ]
  },
  {
   "cell_type": "code",
   "execution_count": null,
   "metadata": {},
   "outputs": [],
   "source": [
    "all_csvs[0:-2]"
   ]
  },
  {
   "cell_type": "code",
   "execution_count": null,
   "metadata": {},
   "outputs": [],
   "source": [
    "#And this cell does the brunt of the work.\n",
    "\n",
    "d = {'deviation': [], 'range': [], 'rsd': [], 'amplitude': [], 'period': []}\n",
    "df = pd.DataFrame(data=d)\n",
    "\n",
    "for prefix in all_csvs[0:-2]:\n",
    "\n",
    "    ystd, rang, rsd, amp, per, pawcount, pawdens, cross, crossdens, stride, stridestd = ferret_fit(folder, prefix)\n",
    "    df = df.append({'deviation':ystd, 'range':rang, 'rsd':rsd, 'amplitude':amp,\n",
    "                    'pawcount':pawcount, 'pawdensity':pawdens, 'period':per,\n",
    "                    'cross':cross, 'crossdensity':crossdens, 'stride':stride, 'stridestd':stridestd, 'run':prefix}, ignore_index=True)"
   ]
  },
  {
   "cell_type": "code",
   "execution_count": null,
   "metadata": {},
   "outputs": [],
   "source": [
    "df"
   ]
  },
  {
   "cell_type": "code",
   "execution_count": null,
   "metadata": {
    "scrolled": true
   },
   "outputs": [],
   "source": [
    "#This cell allows the user to perform averages of a parameter of interest after analysis and compare groups.\n",
    "\n",
    "measure = 'period'\n",
    "\n",
    "print('Mean wonky {}: {} +/- {}'.format(measure, np.average(df[0:15][measure]), sem(df[0:15][measure])))\n",
    "print('Mean normal {}: {} +/- {}'.format(measure, np.average(df[15:30][measure]), sem(df[15:30][measure])))\n",
    "\n",
    "np.average(df[0:15]['period'])"
   ]
  },
  {
   "cell_type": "code",
   "execution_count": null,
   "metadata": {},
   "outputs": [],
   "source": [
    "#This cell saves the analyzed data to a csv file.\n",
    "df.to_csv('ferret_stats.csv')\n",
    "\n",
    "stats = 'ferret_stats.csv'\n",
    "aws.upload_s3(stats, '{}/{}'.format(folder, stats), bucket_name='ccurtis.data')"
   ]
  },
  {
   "cell_type": "code",
   "execution_count": null,
   "metadata": {},
   "outputs": [],
   "source": [
    "np.arcsin()"
   ]
  }
 ],
 "metadata": {
  "kernelspec": {
   "display_name": "Python 3",
   "language": "python",
   "name": "python3"
  },
  "language_info": {
   "codemirror_mode": {
    "name": "ipython",
    "version": 3
   },
   "file_extension": ".py",
   "mimetype": "text/x-python",
   "name": "python",
   "nbconvert_exporter": "python",
   "pygments_lexer": "ipython3",
   "version": "3.6.3"
  }
 },
 "nbformat": 4,
 "nbformat_minor": 2
}
