{
 "cells": [
  {
   "cell_type": "code",
   "execution_count": 13,
   "metadata": {},
   "outputs": [],
   "source": [
    "import sys\n",
    "import os\n",
    "import pandas as pd\n",
    "import numpy as np\n",
    "to_add = os.getcwd().split('/scripts')[0]\n",
    "if not to_add in sys.path:\n",
    "    sys.path.insert(0, to_add)\n",
    "\n",
    "import ferretfit.aws as aws"
   ]
  },
  {
   "cell_type": "code",
   "execution_count": null,
   "metadata": {},
   "outputs": [],
   "source": [
    "def ferret_fit(folder, prefix, download=True, bucket_name='ccurtis.data'):\n",
    "\n",
    "    filename = '{}.csv'.format(prefix)\n",
    "    if download:\n",
    "        aws.download_s3('{}/{}'.format(folder, filename), filename,\n",
    "                        bucket_name=bucket_name)\n",
    "    ferret_data = pd.read_csv(filename)\n",
    "    ferret_data = ferret_data.sort_values(by=['X'])\n",
    "    length = ferret_data.shape[0]\n",
    "\n",
    "    x = ferret_data['X']\n",
    "    y = ferret_data['Y']\n",
    "    fine_t, data_fit, eamp, efr = fit_sine(x, y, gfr=1/100)\n",
    "\n",
    "    lowess = sm.nonparametric.lowess\n",
    "    ymid = lowess(y, x, frac=0.3)\n",
    "    yavg = np.convolve(y, np.ones((length,))/length, mode='same')\n",
    "\n",
    "    strait = np.mean(y)*np.ones((length,))\n",
    "    intersections = intersection(x, ymid[:, 1], x, strait)\n",
    "    pawcount = len(x)\n",
    "    pawdens = np.abs(100*pawcount/(max(x) - min(x)))\n",
    "    stride = np.mean(np.diff(x))\n",
    "    stridestd = np.std(np.diff(x))\n",
    "\n",
    "    plt.figure(figsize=(10, 5))\n",
    "    plt.scatter(x, y, s=300)\n",
    "    plt.plot(x, ymid[:, 1], linewidth=6)\n",
    "    plt.plot(x, strait, 'k', linewidth=6)\n",
    "    plt.plot(fine_t, data_fit, 'm', linewidth=6)\n",
    "    # plt.plot(x, yavg, 'k', linewidth=6)\n",
    "    plt.ylim(0, 120)\n",
    "    imfile = '{}_fit.png'.format(prefix)\n",
    "    plt.savefig(imfile)\n",
    "    aws.upload_s3(imfile, '{}/{}'.format(folder, imfile),\n",
    "                  bucket_name='ccurtis.data')\n",
    "\n",
    "    ystd = np.round(np.std(y), 2)\n",
    "    yrange = np.round(np.ptp(y), 2)\n",
    "    rsd = 100*np.round(ystd/np.mean(y), 2)\n",
    "    cross = len(intersections[0])\n",
    "    crossdens = np.abs(100*cross/(max(x) - min(x)))\n",
    "\n",
    "    ffparams = Bunch(ystd=ystd, yrange=yrange, rsd=rsd, amp=np.abs(eamp),\n",
    "                     period=1/efr, pawcount=pawcount, pawdens=pawdens,\n",
    "                     cross=cross, crossdens=crossdens, stride=stride,\n",
    "                     stridestd=stridestd)\n",
    "\n",
    "    return ffparams"
   ]
  },
  {
   "cell_type": "code",
   "execution_count": 7,
   "metadata": {},
   "outputs": [],
   "source": [
    "prefix = 'F10_T1_R1'\n",
    "folder = 'ferret_tracking/09_12_18_all_data'\n",
    "bucket_name = 'ccurtis.data'"
   ]
  },
  {
   "cell_type": "code",
   "execution_count": 14,
   "metadata": {},
   "outputs": [],
   "source": [
    "feet = ['LH', 'RH', 'LF', 'RF']\n",
    "ystdfoot = {}\n",
    "yrangefoot = {}\n",
    "yrsdfoot = {}\n",
    "\n",
    "download = True\n",
    "for foot in feet:\n",
    "    filename = '{}_{}.csv'.format(prefix, foot)\n",
    "    if download:\n",
    "        aws.download_s3('{}/{}'.format(folder, filename), filename,\n",
    "                        bucket_name=bucket_name)\n",
    "    ferret_data = pd.read_csv(filename)\n",
    "    ferret_data = ferret_data.sort_values(by=['X'])\n",
    "    #if feet in ['LH', 'RH']:\n",
    "    #    if ferret_data.shape([0]) < 4:\n",
    "    #        ferret_data = ferret_data\n",
    "    #    else:\n",
    "    ferret_data = ferret_data[ferret_data['Area'] > 199]\n",
    "    #else:\n",
    "    #    ferret_data = ferret_data\n",
    "\n",
    "    try:\n",
    "        y = ferret_data['Y']\n",
    "        ystdfoot[foot] = np.round(np.std(y), 2)\n",
    "        yrangefoot[foot] = np.round(np.ptp(y), 2)\n",
    "        yrsdfoot[foot] = 100*np.round(ystdfoot[foot]/np.mean(y), 2)\n",
    "    except:\n",
    "        ystdfoot[foot] = np.nan\n",
    "        yrangefoot[foot] = np.nan\n",
    "        yrsdfoot[foot] = np.nan\n",
    "    \n",
    "#ffparams.ystdfoot = ystdfoot\n",
    "#ffparams.yrangefoot = yrangefoot\n",
    "#ffparams.yrsdfoot = yrsdfoot"
   ]
  },
  {
   "cell_type": "code",
   "execution_count": 11,
   "metadata": {},
   "outputs": [
    {
     "data": {
      "text/html": [
       "<div>\n",
       "<style scoped>\n",
       "    .dataframe tbody tr th:only-of-type {\n",
       "        vertical-align: middle;\n",
       "    }\n",
       "\n",
       "    .dataframe tbody tr th {\n",
       "        vertical-align: top;\n",
       "    }\n",
       "\n",
       "    .dataframe thead th {\n",
       "        text-align: right;\n",
       "    }\n",
       "</style>\n",
       "<table border=\"1\" class=\"dataframe\">\n",
       "  <thead>\n",
       "    <tr style=\"text-align: right;\">\n",
       "      <th></th>\n",
       "      <th></th>\n",
       "      <th>Area</th>\n",
       "      <th>Mean</th>\n",
       "      <th>Min</th>\n",
       "      <th>Max</th>\n",
       "      <th>X</th>\n",
       "      <th>Y</th>\n",
       "      <th>XM</th>\n",
       "      <th>YM</th>\n",
       "    </tr>\n",
       "  </thead>\n",
       "  <tbody>\n",
       "    <tr>\n",
       "      <th>0</th>\n",
       "      <td>1</td>\n",
       "      <td>108</td>\n",
       "      <td>0</td>\n",
       "      <td>0</td>\n",
       "      <td>0</td>\n",
       "      <td>206</td>\n",
       "      <td>80.500</td>\n",
       "      <td>206</td>\n",
       "      <td>80.500</td>\n",
       "    </tr>\n",
       "    <tr>\n",
       "      <th>2</th>\n",
       "      <td>3</td>\n",
       "      <td>86</td>\n",
       "      <td>0</td>\n",
       "      <td>0</td>\n",
       "      <td>0</td>\n",
       "      <td>227</td>\n",
       "      <td>91.384</td>\n",
       "      <td>227</td>\n",
       "      <td>91.384</td>\n",
       "    </tr>\n",
       "    <tr>\n",
       "      <th>1</th>\n",
       "      <td>2</td>\n",
       "      <td>86</td>\n",
       "      <td>0</td>\n",
       "      <td>0</td>\n",
       "      <td>0</td>\n",
       "      <td>410</td>\n",
       "      <td>89.384</td>\n",
       "      <td>410</td>\n",
       "      <td>89.384</td>\n",
       "    </tr>\n",
       "  </tbody>\n",
       "</table>\n",
       "</div>"
      ],
      "text/plain": [
       "      Area  Mean  Min  Max    X       Y   XM      YM\n",
       "0  1   108     0    0    0  206  80.500  206  80.500\n",
       "2  3    86     0    0    0  227  91.384  227  91.384\n",
       "1  2    86     0    0    0  410  89.384  410  89.384"
      ]
     },
     "execution_count": 11,
     "metadata": {},
     "output_type": "execute_result"
    }
   ],
   "source": [
    "ferret_data"
   ]
  },
  {
   "cell_type": "code",
   "execution_count": 15,
   "metadata": {},
   "outputs": [
    {
     "data": {
      "text/plain": [
       "{'LF': 11.390000000000001, 'LH': nan, 'RF': 7.7599999999999998, 'RH': 0.0}"
      ]
     },
     "execution_count": 15,
     "metadata": {},
     "output_type": "execute_result"
    }
   ],
   "source": [
    "ystdfoot"
   ]
  },
  {
   "cell_type": "code",
   "execution_count": 16,
   "metadata": {},
   "outputs": [
    {
     "data": {
      "text/plain": [
       "{'LF': 27.489999999999998, 'LH': nan, 'RF': 18.07, 'RH': 0.0}"
      ]
     },
     "execution_count": 16,
     "metadata": {},
     "output_type": "execute_result"
    }
   ],
   "source": [
    "yrangefoot"
   ]
  },
  {
   "cell_type": "code",
   "execution_count": null,
   "metadata": {},
   "outputs": [],
   "source": []
  }
 ],
 "metadata": {
  "kernelspec": {
   "display_name": "Python 3",
   "language": "python",
   "name": "python3"
  },
  "language_info": {
   "codemirror_mode": {
    "name": "ipython",
    "version": 3
   },
   "file_extension": ".py",
   "mimetype": "text/x-python",
   "name": "python",
   "nbconvert_exporter": "python",
   "pygments_lexer": "ipython3",
   "version": "3.6.3"
  }
 },
 "nbformat": 4,
 "nbformat_minor": 2
}
